{
  "cells": [
    {
      "cell_type": "markdown",
      "metadata": {},
      "source": [
        "# 🚀 Quick Start: Universal Public Data MCP Server\n\nWelcome to your first hands-on tutorial!\n\n## 🎯 What You'll Learn\n- ✅ Basic setup and connection to the MCP server\n- 📊 Your first real API calls with live data\n- 💡 Understanding the data structure and format\n\n**All data is LIVE from real APIs!**\n\n---"
      ]
    },
    {
      "cell_type": "markdown",
      "metadata": {},
      "source": [
        "## 🛠️ Setup & Imports"
      ]
    },
    {
      "cell_type": "code",
      "execution_count": null,
      "metadata": {},
      "outputs": [],
      "source": [
        "# Core imports\nimport sys\nimport os\nimport asyncio\nfrom datetime import datetime\n\n# Add project root to path\nsys.path.append(os.path.join(os.getcwd(), \"..\"))\n\n# Import MCP components\nfrom src.adapters.financial import FinancialDataAdapter\nfrom src.core.cache import CacheManager\nfrom src.core.config import Config\n\n# Initialize\nconfig = Config.load()\ncache_manager = CacheManager(config)\n\nprint(\"✅ Setup complete!\")\nprint(f\"📅 Started: {datetime.now().strftime('%Y-%m-%d %H:%M:%S')}\")"
      ]
    },
    {
      "cell_type": "markdown",
      "metadata": {},
      "source": [
        "## 💰 Your First Real API Call\n\nLet's get **real-time Apple stock data** from Yahoo Finance!"
      ]
    },
    {
      "cell_type": "code",
      "execution_count": null,
      "metadata": {},
      "outputs": [],
      "source": [
        "async def get_apple_stock():\n    \"\"\"Get real-time Apple stock data\"\"\"\n    async with FinancialDataAdapter(cache_manager) as adapter:\n        result = await adapter.get_stock_data(\"AAPL\")\n        return result\n\n# Get live data\napple_data = await get_apple_stock()\n\n# Display results\nprint(\"🍎 APPLE INC. (AAPL) - LIVE DATA\")\nprint(\"=\" * 40)\nprint(f\"💰 Current Price: ${apple_data['current_price']:,.2f}\")\nprint(f\"📈 52W High: ${apple_data['52w_high']:,.2f}\")\nprint(f\"📉 52W Low: ${apple_data['52w_low']:,.2f}\")\nprint(f\"🏢 Market Cap: ${apple_data['market_cap']:,.0f}\")\nprint(f\"📊 Volume: {apple_data['volume']:,}\")\nprint(f\"🕐 Updated: {apple_data['timestamp']}\")\nprint(\"\")\nprint(\"✨ This is REAL data from Yahoo Finance API!\")"
      ]
    },
    {
      "cell_type": "markdown",
      "metadata": {},
      "source": [
        "## 🎉 Congratulations!\n\nYou've successfully retrieved **real-time stock data**!\n\n### ✅ What You Did\n- 🔗 Connected to the MCP server\n- 📊 Retrieved live financial data from Yahoo Finance\n- 💰 Saw real market prices and trading volume\n\n### 🚀 Next Steps\n- **[02_understanding_tools.ipynb](02_understanding_tools.ipynb)** - Explore all 20+ tools\n- **[03_financial_analysis.ipynb](03_financial_analysis.ipynb)** - Advanced financial analysis\n- **[14_comprehensive_dashboard.ipynb](14_comprehensive_dashboard.ipynb)** - Multi-source dashboards\n\n**Happy exploring! 🎊**"
      ]
    }
  ],
  "metadata": {
    "kernelspec": {
      "display_name": "Python 3",
      "language": "python",
      "name": "python3"
    },
    "language_info": {
      "codemirror_mode": {
        "name": "ipython",
        "version": 3
      },
      "file_extension": ".py",
      "mimetype": "text/x-python",
      "name": "python",
      "nbconvert_exporter": "python",
      "pygments_lexer": "ipython3",
      "version": "3.8.0"
    }
  },
  "nbformat": 4,
  "nbformat_minor": 4
}