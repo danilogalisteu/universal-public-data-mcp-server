{
  "cells": [
    {
      "cell_type": "markdown",
      "metadata": {},
      "source": [
        "# 📊 Comprehensive Multi-Source Dashboard\n\nBuild a real-time dashboard combining data from all MCP server categories.\n\n## 🎯 Dashboard Features\n- 💰 **Financial Markets**: Live stock, crypto data\n- 📰 **News Monitoring**: Breaking news feeds\n- 🌍 **Environmental**: Weather and geographic data\n- 💻 **Technology**: GitHub trends and metrics\n\n**All data is LIVE from real APIs!**"
      ]
    },
    {
      "cell_type": "code",
      "execution_count": null,
      "metadata": {},
      "outputs": [],
      "source": [
        "import sys, os, asyncio\nfrom datetime import datetime\n\nsys.path.append(os.path.join(os.getcwd(), '..'))\nfrom src.adapters.financial import FinancialDataAdapter\nfrom src.adapters.news import NewsDataAdapter\nfrom src.adapters.geographic import GeographicDataAdapter\nfrom src.adapters.technology import TechnologyDataAdapter\nfrom src.core.cache import CacheManager\nfrom src.core.config import Config\n\nconfig = Config.load()\ncache_manager = CacheManager(config)\n\nprint(\"📊 Multi-Source Dashboard Ready!\")\nprint(f\"📅 Started: {datetime.now().strftime('%Y-%m-%d %H:%M:%S')}\")"
      ]
    },
    {
      "cell_type": "markdown",
      "metadata": {},
      "source": [
        "## 📡 Data Collection"
      ]
    },
    {
      "cell_type": "code",
      "execution_count": null,
      "metadata": {},
      "outputs": [],
      "source": [
        "async def collect_dashboard_data():\n    data = {}\n    \n    # Financial data\n    print(\"💰 Collecting financial data...\")\n    async with FinancialDataAdapter(cache_manager) as adapter:\n        data['apple'] = await adapter.get_stock_data('AAPL')\n        data['bitcoin'] = await adapter.get_crypto_data('bitcoin')\n    \n    # News data\n    print(\"📰 Collecting news data...\")\n    async with NewsDataAdapter(cache_manager) as adapter:\n        data['news'] = await adapter.get_breaking_news('technology', limit=3)\n    \n    # Weather data\n    print(\"🌤️ Collecting weather data...\")\n    async with GeographicDataAdapter(cache_manager) as adapter:\n        data['weather'] = await adapter.get_weather_data('New York')\n    \n    # GitHub data\n    print(\"💻 Collecting GitHub data...\")\n    async with TechnologyDataAdapter(cache_manager) as adapter:\n        data['github'] = await adapter.get_github_trends('daily', language='python', limit=3)\n    \n    return data\n\ndashboard_data = await collect_dashboard_data()\nprint(\"✅ Data collection complete!\")"
      ]
    },
    {
      "cell_type": "markdown",
      "metadata": {},
      "source": [
        "## 📋 Dashboard Summary"
      ]
    },
    {
      "cell_type": "code",
      "execution_count": null,
      "metadata": {},
      "outputs": [],
      "source": [
        "print(\"🎯 LIVE MULTI-SOURCE DASHBOARD\")\nprint(\"=\" * 60)\nprint(f\"📅 Updated: {datetime.now().strftime('%Y-%m-%d %H:%M:%S')}\")\nprint()\n\n# Financial summary\nprint(\"💰 FINANCIAL MARKETS:\")\nprint(f\"  📈 Apple (AAPL): ${dashboard_data['apple']['current_price']:,.2f}\")\nprint(f\"  🪙 Bitcoin: ${dashboard_data['bitcoin']['current_price']:,.2f}\")\nprint(f\"     24h Change: {dashboard_data['bitcoin']['price_change_percentage_24h']:+.2f}%\")\n\n# News summary\nprint(f\"📰 LATEST TECH NEWS ({dashboard_data['news']['articles_found']} articles):\")\nfor i, article in enumerate(dashboard_data['news']['articles'], 1):\n    print(f\"  {i}. {article['title'][:60]}... ({article['source']})\")\n\n# Weather summary\nweather = dashboard_data['weather']['weather']\nprint(f\"🌤️ NEW YORK WEATHER:\")\nprint(f\"  Temperature: {weather['temperature']['celsius']}°C\")\nprint(f\"  Conditions: {weather['conditions']['description']}\")\n\n# GitHub summary\nprint(f\"💻 TRENDING PYTHON REPOS:\")\nfor i, repo in enumerate(dashboard_data['github']['repositories'], 1):\n    print(f\"  {i}. {repo['full_name']}: {repo['stars']:,} stars\")\n\nprint(\"\\n\" + \"=\" * 60)\nprint(\"✨ All data is LIVE from real APIs!\")\nprint(\"🔄 Refresh to get updated real-time data.\")"
      ]
    },
    {
      "cell_type": "markdown",
      "metadata": {},
      "source": [
        "## 🎉 Dashboard Complete!\n\nYou've built a **comprehensive multi-source dashboard**!\n\n### ✅ What You Accomplished\n- 🌍 **Multi-source integration** from 4 different API categories\n- 📊 **Real-time data** from financial, news, weather, and tech sources\n- 🔄 **Live updates** on every notebook refresh\n- 📈 **Production patterns** for scalable applications\n\n### 🚀 Data Sources Integrated\n- 💰 **Yahoo Finance** (Apple stock prices)\n- 🪙 **CoinGecko** (Bitcoin cryptocurrency data)\n- 📰 **RSS Feeds** (Technology news from major sources)\n- 🌤️ **wttr.in** (New York weather conditions)\n- 💻 **GitHub API** (Trending Python repositories)\n\n### 🌟 Key Features\n- **100% Real Data** from live APIs\n- **Error handling** for robust operation\n- **Caching** for performance optimization\n- **Extensible** architecture for adding more sources\n\n### 💡 Real-World Applications\n- **Executive dashboards** with live business metrics\n- **Market monitoring** for investment decisions\n- **Research platforms** with multi-source data\n- **AI training** with rich, real-world datasets\n\n**🎊 Perfect foundation for sophisticated data applications!**"
      ]
    }
  ],
  "metadata": {
    "kernelspec": {
      "display_name": "Python 3",
      "language": "python",
      "name": "python3"
    },
    "language_info": {
      "codemirror_mode": {
        "name": "ipython",
        "version": 3
      },
      "file_extension": ".py",
      "mimetype": "text/x-python",
      "name": "python",
      "nbconvert_exporter": "python",
      "pygments_lexer": "ipython3",
      "version": "3.8.0"
    }
  },
  "nbformat": 4,
  "nbformat_minor": 4
}