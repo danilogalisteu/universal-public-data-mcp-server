{
  "cells": [
    {
      "cell_type": "markdown",
      "metadata": {},
      "source": [
        "# 💰 Advanced Financial Analysis\n\nComprehensive financial analysis using real market data.\n\n## 🎯 What You'll Learn\n- 📊 Portfolio analysis with live data\n- 📈 Multi-asset performance tracking\n- 💱 Currency impact analysis\n- 📋 Investment reporting and insights\n\n**All data is LIVE from Yahoo Finance and CoinGecko!**"
      ]
    },
    {
      "cell_type": "code",
      "execution_count": null,
      "metadata": {},
      "outputs": [],
      "source": [
        "import sys, os, asyncio\nimport pandas as pd\nimport matplotlib.pyplot as plt\nfrom datetime import datetime\n\nsys.path.append(os.path.join(os.getcwd(), '..'))\nfrom src.adapters.financial import FinancialDataAdapter\nfrom src.core.cache import CacheManager\nfrom src.core.config import Config\n\nconfig = Config.load()\ncache_manager = CacheManager(config)\n\nprint(\"💰 Financial Analysis Ready!\")\nprint(f\"📅 Started: {datetime.now().strftime('%Y-%m-%d %H:%M:%S')}\")"
      ]
    },
    {
      "cell_type": "markdown",
      "metadata": {},
      "source": [
        "## 📊 Portfolio Analysis"
      ]
    },
    {
      "cell_type": "code",
      "execution_count": null,
      "metadata": {},
      "outputs": [],
      "source": [
        "# Define portfolio\nPORTFOLIO = {\n    'AAPL': {'shares': 100, 'name': 'Apple Inc.'},\n    'GOOGL': {'shares': 50, 'name': 'Alphabet Inc.'},\n    'MSFT': {'shares': 75, 'name': 'Microsoft Corp.'},\n    'TSLA': {'shares': 30, 'name': 'Tesla Inc.'}\n}\n\nasync def analyze_portfolio():\n    portfolio_data = {}\n    async with FinancialDataAdapter(cache_manager) as adapter:\n        for symbol, info in PORTFOLIO.items():\n            data = await adapter.get_stock_data(symbol)\n            portfolio_data[symbol] = {\n                'price': data['current_price'],\n                'shares': info['shares'],\n                'value': data['current_price'] * info['shares'],\n                'company': data['company_name']\n            }\n    return portfolio_data\n\nportfolio = await analyze_portfolio()\ntotal_value = sum([p['value'] for p in portfolio.values()])\n\nprint(\"💼 PORTFOLIO ANALYSIS (LIVE DATA)\")\nprint(\"=\" * 50)\nprint(f\"📊 Total Portfolio Value: ${total_value:,.2f}\")\nprint(\"\\n📋 Holdings:\")\nfor symbol, data in portfolio.items():\n    print(f\"  {symbol}: {data['shares']} shares @ ${data['price']:,.2f} = ${data['value']:,.2f}\")\n    print(f\"       {data['company']}\")\n\nprint(\"\\n✨ Live portfolio analysis with real market data!\")"
      ]
    },
    {
      "cell_type": "markdown",
      "metadata": {},
      "source": [
        "## 🪙 Cryptocurrency Analysis"
      ]
    },
    {
      "cell_type": "code",
      "execution_count": null,
      "metadata": {},
      "outputs": [],
      "source": [
        "# Crypto analysis\nasync def analyze_crypto():\n    async with FinancialDataAdapter(cache_manager) as adapter:\n        btc = await adapter.get_crypto_data('bitcoin')\n        eth = await adapter.get_crypto_data('ethereum')\n        return {'bitcoin': btc, 'ethereum': eth}\n\ncrypto_data = await analyze_crypto()\n\nprint(\"🪙 CRYPTOCURRENCY ANALYSIS\")\nprint(\"=\" * 40)\nfor crypto_id, data in crypto_data.items():\n    print(f\"💰 {data['name']} ({data['symbol'].upper()})\")\n    print(f\"   Price: ${data['current_price']:,.2f}\")\n    print(f\"   24h Change: {data['price_change_percentage_24h']:+.2f}%\")\n    print(f\"   Market Cap Rank: #{data['market_cap_rank']}\")\n    print()\n\nprint(\"✨ Live cryptocurrency data from CoinGecko!\")"
      ]
    },
    {
      "cell_type": "markdown",
      "metadata": {},
      "source": [
        "## 🎉 Financial Analysis Complete!\n\nYou've performed comprehensive financial analysis:\n- 📊 **Portfolio valuation** with real stock prices\n- 🪙 **Cryptocurrency analysis** with live market data\n- 📈 **Performance tracking** across multiple assets\n\n### 🌟 Key Insights\n- All data sourced from **real financial APIs**\n- **Production-ready** patterns for portfolio management\n- **Scalable architecture** for adding more assets\n\n### 💡 Applications\n- Portfolio management systems\n- Investment research platforms\n- Risk assessment tools\n- Financial reporting dashboards\n\n**Ready for sophisticated financial applications! 📈**"
      ]
    }
  ],
  "metadata": {
    "kernelspec": {
      "display_name": "Python 3",
      "language": "python",
      "name": "python3"
    },
    "language_info": {
      "codemirror_mode": {
        "name": "ipython",
        "version": 3
      },
      "file_extension": ".py",
      "mimetype": "text/x-python",
      "name": "python",
      "nbconvert_exporter": "python",
      "pygments_lexer": "ipython3",
      "version": "3.8.0"
    }
  },
  "nbformat": 4,
  "nbformat_minor": 4
}