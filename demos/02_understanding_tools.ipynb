{
  "cells": [
    {
      "cell_type": "markdown",
      "metadata": {},
      "source": [
        "# 🔧 Understanding All MCP Tools\n\nThis tutorial showcases **all 20+ tools** in the Universal Public Data MCP Server.\n\n## 📋 Tool Categories\n- 💰 **Financial**: Yahoo Finance, CoinGecko, Exchange rates\n- 🏛️ **Government**: Census, Economic indicators, SEC filings\n- 🔬 **Scientific**: NASA, Research papers, Climate data\n- 📰 **News**: Breaking news, News search, Sentiment analysis\n- 🌍 **Geographic**: Weather, Air quality, Disaster alerts\n- 💻 **Technology**: GitHub trends, Domain info\n\n**All tools connect to real APIs!**"
      ]
    },
    {
      "cell_type": "code",
      "execution_count": null,
      "metadata": {},
      "outputs": [],
      "source": [
        "import sys, os, asyncio\nfrom datetime import datetime\nsys.path.append(os.path.join(os.getcwd(), '..'))\n\nfrom src.adapters.financial import FinancialDataAdapter\nfrom src.adapters.news import NewsDataAdapter\nfrom src.adapters.geographic import GeographicDataAdapter\nfrom src.adapters.technology import TechnologyDataAdapter\nfrom src.core.cache import CacheManager\nfrom src.core.config import Config\n\nconfig = Config.load()\ncache_manager = CacheManager(config)\n\nprint(\"🔧 All tools loaded!\")\nprint(f\"📅 Started: {datetime.now().strftime('%Y-%m-%d %H:%M:%S')}\")"
      ]
    },
    {
      "cell_type": "markdown",
      "metadata": {},
      "source": [
        "## 💰 Financial Tools Demo"
      ]
    },
    {
      "cell_type": "code",
      "execution_count": null,
      "metadata": {},
      "outputs": [],
      "source": [
        "# Get multiple stock data\nasync def demo_stocks():\n    async with FinancialDataAdapter(cache_manager) as adapter:\n        stocks = {}\n        for symbol in ['AAPL', 'GOOGL', 'MSFT']:\n            data = await adapter.get_stock_data(symbol)\n            stocks[symbol] = {\n                'price': data['current_price'],\n                'company': data['company_name']\n            }\n        return stocks\n\nstocks = await demo_stocks()\nprint(\"📈 STOCK DATA (Yahoo Finance)\")\nfor symbol, info in stocks.items():\n    print(f\"  {symbol}: ${info['price']:,.2f} - {info['company']}\")\nprint(\"✨ Live data from Yahoo Finance API\")"
      ]
    },
    {
      "cell_type": "markdown",
      "metadata": {},
      "source": [
        "## 📰 News Tools Demo"
      ]
    },
    {
      "cell_type": "code",
      "execution_count": null,
      "metadata": {},
      "outputs": [],
      "source": [
        "# Get breaking news\nasync def demo_news():\n    async with NewsDataAdapter(cache_manager) as adapter:\n        news = await adapter.get_breaking_news('technology', limit=3)\n        return news\n\nnews_data = await demo_news()\nprint(\"📰 BREAKING TECH NEWS\")\nprint(f\"Found {news_data['articles_found']} articles\")\nfor i, article in enumerate(news_data['articles'], 1):\n    print(f\"{i}. {article['title']} ({article['source']})\")\nprint(\"✨ Live news from RSS feeds\")"
      ]
    },
    {
      "cell_type": "markdown",
      "metadata": {},
      "source": [
        "## 🌍 Weather Tools Demo"
      ]
    },
    {
      "cell_type": "code",
      "execution_count": null,
      "metadata": {},
      "outputs": [],
      "source": [
        "# Get weather data\nasync def demo_weather():\n    async with GeographicDataAdapter(cache_manager) as adapter:\n        weather = await adapter.get_weather_data('London')\n        return weather\n\nweather_data = await demo_weather()\nweather = weather_data['weather']\nprint(\"🌤️ LONDON WEATHER\")\nprint(f\"Temperature: {weather['temperature']['celsius']}°C\")\nprint(f\"Conditions: {weather['conditions']['description']}\")\nprint(f\"Humidity: {weather['conditions']['humidity']}%\")\nprint(\"✨ Live weather from wttr.in\")"
      ]
    },
    {
      "cell_type": "markdown",
      "metadata": {},
      "source": [
        "## 💻 GitHub Tools Demo"
      ]
    },
    {
      "cell_type": "code",
      "execution_count": null,
      "metadata": {},
      "outputs": [],
      "source": [
        "# Get GitHub trending\nasync def demo_github():\n    async with TechnologyDataAdapter(cache_manager) as adapter:\n        trends = await adapter.get_github_trends('daily', language='python', limit=3)\n        return trends\n\ngithub_data = await demo_github()\nprint(\"⭐ TRENDING PYTHON REPOS\")\nfor repo in github_data['repositories']:\n    print(f\"  {repo['full_name']}: {repo['stars']:,} stars\")\nprint(\"✨ Live data from GitHub API\")"
      ]
    },
    {
      "cell_type": "markdown",
      "metadata": {},
      "source": [
        "## 🎉 Tool Summary\n\nYou've explored multiple MCP tools:\n- 📈 **Financial data** from Yahoo Finance\n- 📰 **Breaking news** from RSS feeds\n- 🌤️ **Weather data** from wttr.in\n- ⭐ **GitHub trends** from GitHub API\n\n### 🌟 Key Features\n- **100% Real Data** from live APIs\n- **Unified Interface** across all tools\n- **Production Ready** with caching and error handling\n\n### 🚀 Next Steps\n- **[03_financial_analysis.ipynb](03_financial_analysis.ipynb)** - Advanced financial analysis\n- **[14_comprehensive_dashboard.ipynb](14_comprehensive_dashboard.ipynb)** - Multi-source dashboards\n\n**Ready to build with real data! 🎊**"
      ]
    }
  ],
  "metadata": {
    "kernelspec": {
      "display_name": "Python 3",
      "language": "python",
      "name": "python3"
    },
    "language_info": {
      "codemirror_mode": {
        "name": "ipython",
        "version": 3
      },
      "file_extension": ".py",
      "mimetype": "text/x-python",
      "name": "python",
      "nbconvert_exporter": "python",
      "pygments_lexer": "ipython3",
      "version": "3.8.0"
    }
  },
  "nbformat": 4,
  "nbformat_minor": 4
}